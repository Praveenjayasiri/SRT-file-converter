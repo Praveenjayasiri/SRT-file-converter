{
 "cells": [
  {
   "cell_type": "code",
   "execution_count": 24,
   "id": "52a216b7",
   "metadata": {
    "scrolled": false
   },
   "outputs": [],
   "source": [
    "import re\n",
    "import sys\n",
    "\n",
    "def is_time_stamp(l):\n",
    "    if l[:2].isnumeric() and l[2] == ':':\n",
    "        return True\n",
    "    return False\n",
    "\n",
    "def has_letters(line):\n",
    "    if re.search('[a-zA-Z]', line):\n",
    "        return True\n",
    "    return False\n",
    "\n",
    "def has_no_text(line):\n",
    "    l = line.strip()\n",
    "    if not len(l):\n",
    "        return True\n",
    "    if l.isnumeric():\n",
    "        return True\n",
    "    if is_time_stamp(l):\n",
    "        return True\n",
    "    if l[0] == '(' and l[-1] == ')':\n",
    "        return True\n",
    "    if not has_letters(line):\n",
    "        return True\n",
    "    return False\n",
    "\n",
    "def is_lowercase_letter_or_comma(letter):\n",
    "    if letter.isalpha() and letter.lower() == letter:\n",
    "        return True\n",
    "    if letter == ',':\n",
    "        return True\n",
    "    return False\n",
    "\n",
    "def clean_up(lines):\n",
    "    new_lines = []\n",
    "    for line in lines[1:]:\n",
    "        if has_no_text(line):\n",
    "            continue\n",
    "        elif len(new_lines) and is_lowercase_letter_or_comma(line[0]):\n",
    "            # combine with previous line\n",
    "            new_lines[-1] = new_lines[-1].strip() + ' ' + line\n",
    "        else:\n",
    "            # append line\n",
    "            new_lines.append(line)\n",
    "    return new_lines\n",
    "\n",
    "def main(args):\n",
    "    file_name = 'FriendsS01E01.srt'\n",
    "    with open(file_name) as f:\n",
    "        lines = f.readlines()\n",
    "        new_lines = clean_up(lines)\n",
    "    new_file_name = file_name[:-4] + '.txt'\n",
    "    with open(new_file_name, 'w') as f:\n",
    "        for i, line in enumerate(new_lines, start=1):\n",
    "            f.write(f\"{i}. {line.strip()}\\n\")\n",
    "           \n",
    "if __name__ == '__main__':\n",
    "    main(sys.argv)"
   ]
  },
  {
   "cell_type": "code",
   "execution_count": null,
   "id": "265bc79b",
   "metadata": {},
   "outputs": [],
   "source": []
  },
  {
   "cell_type": "code",
   "execution_count": null,
   "id": "ce0b3330",
   "metadata": {},
   "outputs": [],
   "source": []
  }
 ],
 "metadata": {
  "kernelspec": {
   "display_name": "Python 3 (ipykernel)",
   "language": "python",
   "name": "python3"
  },
  "language_info": {
   "codemirror_mode": {
    "name": "ipython",
    "version": 3
   },
   "file_extension": ".py",
   "mimetype": "text/x-python",
   "name": "python",
   "nbconvert_exporter": "python",
   "pygments_lexer": "ipython3",
   "version": "3.9.16"
  }
 },
 "nbformat": 4,
 "nbformat_minor": 5
}
